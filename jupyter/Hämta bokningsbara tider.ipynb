{
 "cells": [
  {
   "cell_type": "markdown",
   "metadata": {},
   "source": [
    "# Hämta bokningsbara tider\n",
    "Anropar API:t och filtrerar fram eventuella bokningsbara tider mot covid-19."
   ]
  },
  {
   "cell_type": "code",
   "execution_count": 30,
   "metadata": {},
   "outputs": [
    {
     "name": "stdout",
     "output_type": "stream",
     "text": [
      "Närhälsan Lerums Gymnasium Häggen har 1 st lediga tider - boka här https://e-tjanster.1177.se/mvk/scheduling/tbMakeValidation.xhtml?hsaid=SE2321000131-E000000000431&dynamicid=bb0225fc-7c37-47c1-8558-ddb991501c2c\n",
      "Närhälsan Bäckefors Dalslands Sjukhus har 1 st lediga tider - boka här https://e-tjanster.1177.se/mvk/scheduling/tbMakeValidation.xhtml?hsaid=SE2321000131-E000000002032&dynamicid=bb0225fc-7c37-47c1-8558-ddb991501c2c\n",
      "Närhälsan Scandinavium har 2 st lediga tider - boka här https://e-tjanster.1177.se/mvk/scheduling/tbMakeValidation.xhtml?hsaid=SE2321000131-E000000016395&dynamicid=bb0225fc-7c37-47c1-8558-ddb991501c2c\n"
     ]
    }
   ],
   "source": [
    "import requests\n",
    "import json\n",
    "\n",
    "# uncomment when the API is up and running again\n",
    "\"\"\"\n",
    "headers = {\n",
    "    'client_id':'c4d279f9b8094dbaafd0162c5a606623', \n",
    "    'client_secret': '39D6cAB5D89c448ea3355aAC61De19e7'\n",
    "}\n",
    "\n",
    "req = requests.get('https://test.api.vgregion.se/e-crm-scheduling-public/api/v1/testCenter', headers = headers)\n",
    "data = json.load(req.text)\n",
    "\n",
    "testcenters = data['testcenters']\n",
    "\n",
    "# Print the data of dictionary\n",
    "# print(\"\\ntestcenters:\", testcenters)\n",
    "\n",
    "# print(len(testcenters), 'testcenter')\n",
    "\n",
    "for testcenter in testcenters:\n",
    "    if testcenter['timeslots'] != 0 and testcenter['timeslots'] != None:\n",
    "        print('{0} har {1} st lediga tider - boka här {2}'.format(testcenter['title'], testcenter['timeslots'], testcenter['urlBooking']))\n",
    "\"\"\"\n",
    "  \n",
    "# Opening JSON file\n",
    "with open('../sample-data/vaccine-2021-05-25.json') as json_file:\n",
    "    data = json.load(json_file)\n",
    "    \n",
    "    testcenters = data['testcenters']\n",
    "  \n",
    "    # Print the data of dictionary\n",
    "    # print(\"\\ntestcenters:\", testcenters)\n",
    "\n",
    "    # print(len(testcenters), 'testcenter')\n",
    "    \n",
    "    for testcenter in testcenters:\n",
    "        if testcenter['timeslots'] != 0 and testcenter['timeslots'] != None:\n",
    "            print('{0} har {1} st lediga tider - boka här {2}'.format(testcenter['title'], testcenter['timeslots'], testcenter['urlBooking']))"
   ]
  },
  {
   "cell_type": "code",
   "execution_count": null,
   "metadata": {},
   "outputs": [],
   "source": []
  }
 ],
 "metadata": {
  "kernelspec": {
   "display_name": "Python 3",
   "language": "python",
   "name": "python3"
  },
  "language_info": {
   "codemirror_mode": {
    "name": "ipython",
    "version": 3
   },
   "file_extension": ".py",
   "mimetype": "text/x-python",
   "name": "python",
   "nbconvert_exporter": "python",
   "pygments_lexer": "ipython3",
   "version": "3.8.5"
  }
 },
 "nbformat": 4,
 "nbformat_minor": 4
}
