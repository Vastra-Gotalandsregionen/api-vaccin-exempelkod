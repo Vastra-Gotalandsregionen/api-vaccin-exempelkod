{
 "cells": [
  {
   "cell_type": "markdown",
   "metadata": {},
   "source": [
    "# Hämta bokningsbara tider\n",
    "Anropar API:t och filtrerar fram eventuella bokningsbara tider mot covid-19."
   ]
  },
  {
   "cell_type": "markdown",
   "metadata": {},
   "source": [
    "## 1. Lista de platser som har lediga bokningsbara tider\n",
    "Användningsfall: Lista information för den som är beredd att resa för att få sitt vaccin. Användaren får både reda på antalet lediga tider för stunden (till beslutet om hen kommer hinna boka en tid) samt en länk till där bokningen sker."
   ]
  },
  {
   "cell_type": "code",
   "execution_count": 1,
   "metadata": {},
   "outputs": [
    {
     "name": "stdout",
     "output_type": "stream",
     "text": [
      "Närhälsan Lerums Gymnasium Häggen har 1 st lediga tider - boka här https://e-tjanster.1177.se/mvk/scheduling/tbMakeValidation.xhtml?hsaid=SE2321000131-E000000000431&dynamicid=bb0225fc-7c37-47c1-8558-ddb991501c2c\n",
      "Närhälsan Bäckefors Dalslands Sjukhus har 1 st lediga tider - boka här https://e-tjanster.1177.se/mvk/scheduling/tbMakeValidation.xhtml?hsaid=SE2321000131-E000000002032&dynamicid=bb0225fc-7c37-47c1-8558-ddb991501c2c\n",
      "Närhälsan Scandinavium har 2 st lediga tider - boka här https://e-tjanster.1177.se/mvk/scheduling/tbMakeValidation.xhtml?hsaid=SE2321000131-E000000016395&dynamicid=bb0225fc-7c37-47c1-8558-ddb991501c2c\n"
     ]
    }
   ],
   "source": [
    "import requests\n",
    "import json\n",
    "\n",
    "# uncomment when the API is up and running again\n",
    "\"\"\"\n",
    "headers = {\n",
    "    'client_id':'c4d279f9b8094dbaafd0162c5a606623', \n",
    "    'client_secret': '39D6cAB5D89c448ea3355aAC61De19e7'\n",
    "}\n",
    "\n",
    "req = requests.get('https://test.api.vgregion.se/e-crm-scheduling-public/api/v1/testCenter', headers = headers)\n",
    "data = json.load(req.text)\n",
    "\n",
    "testcenters = data['testcenters']\n",
    "\n",
    "for testcenter in testcenters:\n",
    "    if testcenter['timeslots'] != 0 and testcenter['timeslots'] != None:\n",
    "        print('{0} har {1} st lediga tider - boka här {2}'.format(testcenter['title'], testcenter['timeslots'], testcenter['urlBooking']))\n",
    "\"\"\"\n",
    "  \n",
    "# Opening JSON file\n",
    "with open('../sample-data/vaccine-2021-05-25.json') as json_file:\n",
    "    data = json.load(json_file)\n",
    "    \n",
    "    testcenters = data['testcenters']\n",
    "  \n",
    "    # Print the data of dictionary\n",
    "    # print(\"\\ntestcenters:\", testcenters)\n",
    "\n",
    "    # print(len(testcenters), 'testcenter')\n",
    "    \n",
    "    for testcenter in testcenters:\n",
    "        if testcenter['timeslots'] != 0 and testcenter['timeslots'] != None:\n",
    "            print('{0} har {1} st lediga tider - boka här {2}'.format(testcenter['title'], testcenter['timeslots'], testcenter['urlBooking']))"
   ]
  },
  {
   "cell_type": "markdown",
   "metadata": {},
   "source": [
    "## 2. Hur många tider finns i en viss kommun?\n",
    "Användningsfall: Exempelvis en chatbot eller telefonservice. Svarar på frågan: \n",
    "> \"Hur många vaccinationstider finns i [min-kommun]?\""
   ]
  },
  {
   "cell_type": "code",
   "execution_count": 2,
   "metadata": {},
   "outputs": [
    {
     "name": "stdout",
     "output_type": "stream",
     "text": [
      "Det finns 2 lediga tider i Göteborg. Vill du boka en?\n",
      "Det finns 1 lediga tider i Bengtsfors. Vill du boka en?\n",
      "Jag är ledsen! Det verkar inte finnas några bokningsbara vaccintider i Mariestad just nu.\n"
     ]
    }
   ],
   "source": [
    "import requests\n",
    "import json\n",
    "import csv\n",
    "\n",
    "def initialize_municipalities():\n",
    "    \"\"\"\n",
    "    Fetching the municipalities' names and codes\n",
    "    \"\"\"\n",
    "    municipalities_dict = dict()\n",
    "    \n",
    "    with open('../sample-data/kommunkoder.csv', newline='') as csvfile:\n",
    "        csv_reader = csv.reader(csvfile, delimiter=';', quotechar='|')\n",
    "\n",
    "        # adding municipalities and their corresponding codes to a dictionary\n",
    "        for row in csv_reader:        \n",
    "            municipalities_dict[row[1]] = row[0]\n",
    "\n",
    "    return municipalities_dict\n",
    "\n",
    "def initialize_testcenters():\n",
    "    \"\"\"\n",
    "    Getting all available timeslots\n",
    "    \"\"\"\n",
    "    testcenters = None\n",
    "    \n",
    "    with open('../sample-data/vaccine-2021-05-25.json') as json_file:\n",
    "        data = json.load(json_file)\n",
    "\n",
    "        testcenters = data['testcenters']\n",
    "    \n",
    "    return testcenters\n",
    "\n",
    "def check_municipality_for_timeslots(municipalities, testcenters, municipality=\"Göteborg\"):\n",
    "    \"\"\"\n",
    "    Looking for eventual timeslots in a particular municipality\n",
    "    \"\"\"\n",
    "    municipality_code = municipalities[municipality]\n",
    "    \n",
    "    timeslots = 0\n",
    "    \n",
    "    for testcenter in testcenters:\n",
    "        if testcenter['municipality'] == municipality_code:\n",
    "            if testcenter['timeslots'] != None:\n",
    "                timeslots += int(testcenter['timeslots'])\n",
    "    \n",
    "    if timeslots > 0:\n",
    "        return 'Det finns {0} lediga tider i {1}. Vill du boka en?'.format(timeslots, municipality)\n",
    "    else:\n",
    "        return 'Jag är ledsen! Det verkar inte finnas några bokningsbara vaccintider i {0} just nu.'.format(municipality)\n",
    "\n",
    "# initializing external data resources\n",
    "municipalities = initialize_municipalities()\n",
    "testcenters = initialize_testcenters()\n",
    "\n",
    "# testing some municipalities\n",
    "print(check_municipality_for_timeslots(municipalities, testcenters, municipality=\"Göteborg\"))\n",
    "print(check_municipality_for_timeslots(municipalities, testcenters, municipality=\"Bengtsfors\"))\n",
    "print(check_municipality_for_timeslots(municipalities, testcenters, municipality=\"Mariestad\"))"
   ]
  },
  {
   "cell_type": "code",
   "execution_count": null,
   "metadata": {},
   "outputs": [],
   "source": []
  }
 ],
 "metadata": {
  "kernelspec": {
   "display_name": "Python 3",
   "language": "python",
   "name": "python3"
  },
  "language_info": {
   "codemirror_mode": {
    "name": "ipython",
    "version": 3
   },
   "file_extension": ".py",
   "mimetype": "text/x-python",
   "name": "python",
   "nbconvert_exporter": "python",
   "pygments_lexer": "ipython3",
   "version": "3.8.5"
  }
 },
 "nbformat": 4,
 "nbformat_minor": 4
}
